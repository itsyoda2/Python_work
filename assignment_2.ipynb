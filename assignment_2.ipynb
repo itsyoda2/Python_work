{
 "cells": [
  {
   "cell_type": "code",
   "execution_count": 2,
   "id": "80e126a8-4cd8-428b-8658-0e568a5619a3",
   "metadata": {},
   "outputs": [
    {
     "name": "stdin",
     "output_type": "stream",
     "text": [
      "Enter the mile:  2\n"
     ]
    },
    {
     "name": "stdout",
     "output_type": "stream",
     "text": [
      "3.218\n"
     ]
    }
   ],
   "source": [
    "mile=int(input(\"Enter the mile: \"))\n",
    "km=mile*1.609\n",
    "print(km)"
   ]
  },
  {
   "cell_type": "code",
   "execution_count": 4,
   "id": "9510a8d2-4859-4095-9639-5516191a88e6",
   "metadata": {},
   "outputs": [
    {
     "name": "stdin",
     "output_type": "stream",
     "text": [
      "Enter the temp in C:  0\n"
     ]
    },
    {
     "name": "stdout",
     "output_type": "stream",
     "text": [
      "32.0 degree farhenite\n"
     ]
    }
   ],
   "source": [
    "celsi=int(input(\"Enter the temp in C: \"))\n",
    "farhenhite=(1.8*celsi)+32\n",
    "print(f\"{farhenhite} degree farhenite\")"
   ]
  },
  {
   "cell_type": "code",
   "execution_count": 5,
   "id": "151e4491-6bcb-46be-99f5-c18afbbba637",
   "metadata": {},
   "outputs": [],
   "source": [
    "\n",
    "# programme to generate calendar\n",
    "import calendar"
   ]
  },
  {
   "cell_type": "code",
   "execution_count": 6,
   "id": "36f32b7b-5bc7-427b-8d9f-19eaf2e41f02",
   "metadata": {},
   "outputs": [
    {
     "name": "stdin",
     "output_type": "stream",
     "text": [
      "Enter Year 2021\n",
      "Enter month 01\n"
     ]
    },
    {
     "name": "stdout",
     "output_type": "stream",
     "text": [
      "    January 2021\n",
      "Mo Tu We Th Fr Sa Su\n",
      "             1  2  3\n",
      " 4  5  6  7  8  9 10\n",
      "11 12 13 14 15 16 17\n",
      "18 19 20 21 22 23 24\n",
      "25 26 27 28 29 30 31\n",
      "\n"
     ]
    }
   ],
   "source": [
    "yy=int(input(\"Enter Year\"))\n",
    "mm=int(input(\"Enter month\"))\n",
    "print(calendar.month(yy,mm))"
   ]
  },
  {
   "cell_type": "code",
   "execution_count": 9,
   "id": "8687d5b3-dc88-422b-9d25-9b01a41df83a",
   "metadata": {},
   "outputs": [
    {
     "name": "stdin",
     "output_type": "stream",
     "text": [
      "Write coefficient of X^2 1\n",
      "Write the coeffiecient of X 5\n",
      "Write Constant Term 6\n"
     ]
    },
    {
     "name": "stdout",
     "output_type": "stream",
     "text": [
      "-2.0\n",
      "-3.0\n"
     ]
    }
   ],
   "source": [
    "# python programme to solve quadratic equation\n",
    "\n",
    "a=int(input(\"Write coefficient of X^2\"))\n",
    "b=int(input(\"Write the coeffiecient of X\"))\n",
    "c=int(input(\"Write Constant Term\"))\n",
    "\n",
    "'''sample{(a)X^2+(b)X+c}'''\n",
    "      \n",
    "s1=(-b+((b**2)-4*a*c)**0.5)/2*a\n",
    "s2=(-b-((b**2)-4*a*c)**0.5)/2*a\n",
    "print(s1)\n",
    "print(s2)"
   ]
  },
  {
   "cell_type": "code",
   "execution_count": 13,
   "id": "718cca58-c118-47ab-ab07-8a74243204a9",
   "metadata": {},
   "outputs": [
    {
     "name": "stdout",
     "output_type": "stream",
     "text": [
      "the value of a is : 1\n",
      "the value of b is : 5\n"
     ]
    }
   ],
   "source": [
    "#python programme to swap two variable without 3rd variable\n",
    "\n",
    "a=5\n",
    "b=1\n",
    "a,b=b,a\n",
    "print(f\"the value of a is : {a}\")\n",
    "print(f\"the value of b is : {b}\")"
   ]
  }
 ],
 "metadata": {
  "kernelspec": {
   "display_name": "Python 3 (ipykernel)",
   "language": "python",
   "name": "python3"
  },
  "language_info": {
   "codemirror_mode": {
    "name": "ipython",
    "version": 3
   },
   "file_extension": ".py",
   "mimetype": "text/x-python",
   "name": "python",
   "nbconvert_exporter": "python",
   "pygments_lexer": "ipython3",
   "version": "3.10.6"
  }
 },
 "nbformat": 4,
 "nbformat_minor": 5
}
