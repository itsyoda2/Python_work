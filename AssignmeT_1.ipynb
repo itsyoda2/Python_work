{
 "cells": [
  {
   "cell_type": "markdown",
   "id": "c473a39e-2159-4021-a6db-a7b6595eb416",
   "metadata": {},
   "source": [
    "1. In the below elements which of them are values or an expression? eg:- values can be\n",
    "integer or string and expressions will be mathematical operators.\n",
    "*\n",
    "'hello'\n",
    "-87.8\n",
    "-\n",
    "/\n",
    " +\n",
    "6\n",
    "\n",
    "\n",
    "Ans: Integer values are: 6,-87.8\n",
    "     String is: \"hello\"\n",
    "     expression : *(multiplication) , -(substraction) , / (division) , + (addition)"
   ]
  },
  {
   "cell_type": "markdown",
   "id": "fbd2d21e-9383-476d-9e2d-89c353fc2700",
   "metadata": {},
   "source": [
    "2. What is the difference between string and variable?\n",
    "\n",
    "Ans: variable: a variable is like pointer which store data in it for future use/ reference\n",
    "     String: String is Kind  one of Data-Type among others\n"
   ]
  },
  {
   "cell_type": "markdown",
   "id": "77eb402e-dcf7-4b2f-90bf-b54d7808e4e6",
   "metadata": {},
   "source": [
    "3. Describe three different data types.\n",
    "\n",
    "Ans: The 3 different Data Types are:\n",
    "    1: Int , Str,float\n",
    "    2:List , tuple\n",
    "    3:dictionary , Set"
   ]
  },
  {
   "cell_type": "markdown",
   "id": "18d846f3-7c16-472d-b227-77ab4cacee4d",
   "metadata": {},
   "source": [
    "4. What is an expression made up of? What do all expressions do?\n",
    "\n",
    "ans: Experssion is used to do mathematical operation python\n",
    "    eg: expression : *(multiplication) , -(substraction) , / (division) , + (addition)"
   ]
  },
  {
   "cell_type": "code",
   "execution_count": 2,
   "id": "643bbc6a-532e-4a08-888c-cba187746453",
   "metadata": {},
   "outputs": [
    {
     "data": {
      "text/plain": [
       "22"
      ]
     },
     "execution_count": 2,
     "metadata": {},
     "output_type": "execute_result"
    }
   ],
   "source": [
    "6. After running the following code, what does the variable bacon contain?\n",
    "bacon = 22\n",
    "bacon + 1\n",
    "bacon\n",
    "#Ans: it will print 22 "
   ]
  },
  {
   "cell_type": "markdown",
   "id": "9852023b-480f-4ce8-b76a-f467591bbf5f",
   "metadata": {},
   "source": [
    "7. What should the values of the following two terms be?\n",
    "'spam' + 'spamspam'\n",
    "'spam' * 3\n",
    "\n",
    "Ans: Both will print spam 3 times like spamspamspam"
   ]
  },
  {
   "cell_type": "markdown",
   "id": "3c124f86-cf9d-4f75-953e-eba90538b6d4",
   "metadata": {},
   "source": [
    "8. Why is eggs a valid variable name while 100 is invalid?\n",
    "\n",
    "Ans: unlike any person name can't start with a number , same goes with varible , it also can't start with number , \n",
    "    thats why 100 is not the correct variable name"
   ]
  },
  {
   "cell_type": "markdown",
   "id": "a8e2e5f5-7626-4121-8092-8649028e4197",
   "metadata": {},
   "source": [
    "9. What three functions can be used to get the integer, floating-point number, or string\n",
    "version of a value?\n",
    "\n",
    "ans:  type()  ------>function provide the type version of value"
   ]
  },
  {
   "cell_type": "code",
   "execution_count": null,
   "id": "081022c7-50fc-4dff-bea1-0679e5a87261",
   "metadata": {},
   "outputs": [],
   "source": [
    "10. Why does this expression cause an error? How can you fix it?\n",
    "'i have eaten'+99+\"burritoes\"\n",
    "\n",
    "Ans: either we can typecast 99 into str  ------->this will return as a str\n",
    "    or we can use , in place of + sign both will work ------>this will return as a tuple"
   ]
  }
 ],
 "metadata": {
  "kernelspec": {
   "display_name": "Python 3 (ipykernel)",
   "language": "python",
   "name": "python3"
  },
  "language_info": {
   "codemirror_mode": {
    "name": "ipython",
    "version": 3
   },
   "file_extension": ".py",
   "mimetype": "text/x-python",
   "name": "python",
   "nbconvert_exporter": "python",
   "pygments_lexer": "ipython3",
   "version": "3.10.6"
  }
 },
 "nbformat": 4,
 "nbformat_minor": 5
}
