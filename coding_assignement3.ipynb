{
 "cells": [
  {
   "cell_type": "code",
   "execution_count": 3,
   "id": "26e046f4-82ac-488d-95cf-bd744d8ca2ed",
   "metadata": {},
   "outputs": [
    {
     "name": "stdin",
     "output_type": "stream",
     "text": [
      "Enter number :  5\n"
     ]
    },
    {
     "name": "stdout",
     "output_type": "stream",
     "text": [
      "the given number is positive\n"
     ]
    }
   ],
   "source": [
    "a=int(input(\"Enter number : \"))\n",
    "if a<0:\n",
    "    print(\"The given number is negative\")\n",
    "elif a==0:\n",
    "    print(\"The given number is zero\")\n",
    "else:\n",
    "    print(\"the given number is positive\")"
   ]
  },
  {
   "cell_type": "code",
   "execution_count": 6,
   "id": "c07170f9-4fd5-46f0-ab74-6a2b1ea95547",
   "metadata": {},
   "outputs": [
    {
     "name": "stdin",
     "output_type": "stream",
     "text": [
      "Enter number :  10\n"
     ]
    },
    {
     "name": "stdout",
     "output_type": "stream",
     "text": [
      "The given number is even\n"
     ]
    }
   ],
   "source": [
    "a=int(input(\"Enter number : \"))\n",
    "\n",
    "if a%2 !=0:\n",
    "    print(\"The given number is odd\")\n",
    "else:\n",
    "    print(\"The given number is even\")"
   ]
  },
  {
   "cell_type": "code",
   "execution_count": 23,
   "id": "5f22e306-699e-4220-a3db-73182ccf8207",
   "metadata": {},
   "outputs": [
    {
     "name": "stdin",
     "output_type": "stream",
     "text": [
      "Enter number :  17\n"
     ]
    },
    {
     "name": "stdout",
     "output_type": "stream",
     "text": [
      "The given number is prime\n"
     ]
    }
   ],
   "source": [
    "# programe to check number is prime r not\n",
    "a=int(input(\"Enter number : \"))\n",
    "if a>=9:\n",
    "    if (a%2==0 or a%3==0 or a%5==0 or a%7==0 or a%9==0):\n",
    "        print(\"the given number is composite\")\n",
    "    else:\n",
    "        print(\"The given number is prime\")\n",
    "elif 2<a<9:\n",
    "    if a%2==0:\n",
    "        print(\"the given number is composite\")\n",
    "    else:\n",
    "        print(\"The given number is prime\")\n",
    "elif a==2:\n",
    "    print(\"its only even prime number\")\n",
    "        \n",
    "    \n"
   ]
  },
  {
   "cell_type": "code",
   "execution_count": 47,
   "id": "e44949ea-fe5e-496a-9b49-df10d6e277f2",
   "metadata": {},
   "outputs": [
    {
     "name": "stdin",
     "output_type": "stream",
     "text": [
      "Enter year :  2020\n"
     ]
    },
    {
     "name": "stdout",
     "output_type": "stream",
     "text": [
      "the given year is leap\n"
     ]
    }
   ],
   "source": [
    "#check leap year\n",
    "\n",
    "a=int(input(\"Enter year : \"))\n",
    "if a%100==0:\n",
    "    if a%400==0:\n",
    "        print(\"the given year is leap\")\n",
    "    else:\n",
    "        print(\"Not leap Year\")\n",
    "elif a%4==0:\n",
    "    print(\"the given year is leap\")\n",
    "else:\n",
    "    print(\"Not leap Year\")"
   ]
  },
  {
   "cell_type": "code",
   "execution_count": 57,
   "id": "bd45c8ec-7b2f-4c5a-8914-9051684dc11d",
   "metadata": {},
   "outputs": [
    {
     "name": "stdout",
     "output_type": "stream",
     "text": [
      "1\n",
      "3\n",
      "5\n",
      "7\n",
      "9\n",
      "11\n",
      "13\n",
      "17\n",
      "19\n",
      "23\n",
      "29\n",
      "31\n",
      "37\n",
      "41\n",
      "43\n",
      "47\n",
      "53\n",
      "59\n",
      "61\n",
      "67\n",
      "71\n",
      "73\n",
      "79\n",
      "83\n",
      "89\n",
      "97\n"
     ]
    }
   ],
   "source": [
    "for i in range(1,10000):\n",
    "    if i>9:\n",
    "        if (i%2==0 or i%3==0 or i%5==0 or i%7==0):\n",
    "            pass\n",
    "        else:\n",
    "            print(i)\n",
    "    elif i in range (1,10):\n",
    "        if i%2==0:\n",
    "            pass\n",
    "        else:\n",
    "            print(i)"
   ]
  }
 ],
 "metadata": {
  "kernelspec": {
   "display_name": "Python 3 (ipykernel)",
   "language": "python",
   "name": "python3"
  },
  "language_info": {
   "codemirror_mode": {
    "name": "ipython",
    "version": 3
   },
   "file_extension": ".py",
   "mimetype": "text/x-python",
   "name": "python",
   "nbconvert_exporter": "python",
   "pygments_lexer": "ipython3",
   "version": "3.10.6"
  }
 },
 "nbformat": 4,
 "nbformat_minor": 5
}
