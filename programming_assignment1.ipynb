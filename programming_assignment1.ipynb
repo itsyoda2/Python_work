{
 "cells": [
  {
   "cell_type": "code",
   "execution_count": 1,
   "id": "b5a1123b-f0c7-4250-bcab-f4d57a54dc0c",
   "metadata": {},
   "outputs": [
    {
     "name": "stdout",
     "output_type": "stream",
     "text": [
      "Hello Python\n"
     ]
    }
   ],
   "source": [
    "#1. Write a Python program to print Hello Python?\n",
    "\n",
    "print(\"Hello Python\")"
   ]
  },
  {
   "cell_type": "code",
   "execution_count": 4,
   "id": "40a4b928-b7dd-482d-bc75-6e9a8987e43c",
   "metadata": {},
   "outputs": [
    {
     "data": {
      "text/plain": [
       "(17, 3, 3)"
      ]
     },
     "execution_count": 4,
     "metadata": {},
     "output_type": "execute_result"
    }
   ],
   "source": [
    "# 2. Write a Python program to do arithmetical operations addition and division.?\n",
    "a,b,c=10,3,4\n",
    "d=a+b+c\n",
    "e=a-b-c\n",
    "f=a//b #this will print rouded digit\n",
    "\n",
    "d,e,f"
   ]
  },
  {
   "cell_type": "code",
   "execution_count": 5,
   "id": "601d2563-e442-48b5-a110-3f4649941312",
   "metadata": {},
   "outputs": [
    {
     "name": "stdin",
     "output_type": "stream",
     "text": [
      "Enter Height of Triangle: 4\n",
      "Enter base of Triangle: 2\n"
     ]
    },
    {
     "name": "stdout",
     "output_type": "stream",
     "text": [
      "The area of Triangle is 4.0\n"
     ]
    }
   ],
   "source": [
    "#3. Write a Python program to find the area of a triangle?\n",
    "height=int(input(\"Enter Height of Triangle:\"))\n",
    "base=int(input(\"Enter base of Triangle:\"))\n",
    "area=0.5*(base*height)\n",
    "print(f\"The area of Triangle is {area}\")"
   ]
  },
  {
   "cell_type": "code",
   "execution_count": 6,
   "id": "cdab91da-0b92-46ba-9807-374b6e692d73",
   "metadata": {},
   "outputs": [],
   "source": [
    "# 4. Write a Python program to swap two variables?\n",
    "a=10\n",
    "b=5\n",
    "c=a\n",
    "a=b\n",
    "b=c"
   ]
  },
  {
   "cell_type": "code",
   "execution_count": 7,
   "id": "36fa0890-728b-42a9-9729-de2168727911",
   "metadata": {},
   "outputs": [
    {
     "data": {
      "text/plain": [
       "(5, 10)"
      ]
     },
     "execution_count": 7,
     "metadata": {},
     "output_type": "execute_result"
    }
   ],
   "source": [
    "a,b"
   ]
  },
  {
   "cell_type": "code",
   "execution_count": 9,
   "id": "d8769033-7f10-4a84-8fb4-8acd2bd4673a",
   "metadata": {},
   "outputs": [
    {
     "data": {
      "text/plain": [
       "1"
      ]
     },
     "execution_count": 9,
     "metadata": {},
     "output_type": "execute_result"
    }
   ],
   "source": [
    "# 5. Write a Python program to generate a random number?\n",
    "import random\n",
    "\n",
    "a=(random.randint(0,5))\n",
    "a\n"
   ]
  }
 ],
 "metadata": {
  "kernelspec": {
   "display_name": "Python 3 (ipykernel)",
   "language": "python",
   "name": "python3"
  },
  "language_info": {
   "codemirror_mode": {
    "name": "ipython",
    "version": 3
   },
   "file_extension": ".py",
   "mimetype": "text/x-python",
   "name": "python",
   "nbconvert_exporter": "python",
   "pygments_lexer": "ipython3",
   "version": "3.10.6"
  }
 },
 "nbformat": 4,
 "nbformat_minor": 5
}
